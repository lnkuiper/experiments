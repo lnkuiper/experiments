{
 "cells": [
  {
   "cell_type": "code",
   "execution_count": 1,
   "id": "9d789bdb-375a-4bb2-8401-4190e7287046",
   "metadata": {},
   "outputs": [],
   "source": [
    "import duckdb\n",
    "import matplotlib as mpl\n",
    "import matplotlib.pyplot as plt\n",
    "from matplotlib.scale import LogScale\n",
    "from matplotlib.ticker import FuncFormatter\n",
    "import matplotlib.patheffects as PathEffects\n",
    "import matplotlib.patches as patches\n",
    "import numpy as np\n",
    "import pandas as pd\n",
    "import copy\n",
    "\n",
    "import seaborn as sns\n",
    "import seaborn.objects as so\n",
    "from seaborn import axes_style\n",
    "from seaborn import plotting_context"
   ]
  },
  {
   "cell_type": "code",
   "execution_count": 2,
   "id": "afca7087-7179-4660-9748-7ea57c2b124d",
   "metadata": {},
   "outputs": [
    {
     "data": {
      "text/html": [
       "<svg  width=\"550\" height=\"55\"><rect x=\"0\" y=\"0\" width=\"55\" height=\"55\" style=\"fill:#4c72b0;stroke-width:2;stroke:rgb(255,255,255)\"/><rect x=\"55\" y=\"0\" width=\"55\" height=\"55\" style=\"fill:#dd8452;stroke-width:2;stroke:rgb(255,255,255)\"/><rect x=\"110\" y=\"0\" width=\"55\" height=\"55\" style=\"fill:#55a868;stroke-width:2;stroke:rgb(255,255,255)\"/><rect x=\"165\" y=\"0\" width=\"55\" height=\"55\" style=\"fill:#c44e52;stroke-width:2;stroke:rgb(255,255,255)\"/><rect x=\"220\" y=\"0\" width=\"55\" height=\"55\" style=\"fill:#8172b3;stroke-width:2;stroke:rgb(255,255,255)\"/><rect x=\"275\" y=\"0\" width=\"55\" height=\"55\" style=\"fill:#937860;stroke-width:2;stroke:rgb(255,255,255)\"/><rect x=\"330\" y=\"0\" width=\"55\" height=\"55\" style=\"fill:#da8bc3;stroke-width:2;stroke:rgb(255,255,255)\"/><rect x=\"385\" y=\"0\" width=\"55\" height=\"55\" style=\"fill:#8c8c8c;stroke-width:2;stroke:rgb(255,255,255)\"/><rect x=\"440\" y=\"0\" width=\"55\" height=\"55\" style=\"fill:#ccb974;stroke-width:2;stroke:rgb(255,255,255)\"/><rect x=\"495\" y=\"0\" width=\"55\" height=\"55\" style=\"fill:#64b5cd;stroke-width:2;stroke:rgb(255,255,255)\"/></svg>"
      ],
      "text/plain": [
       "[(0.2980392156862745, 0.4470588235294118, 0.6901960784313725),\n",
       " (0.8666666666666667, 0.5176470588235295, 0.3215686274509804),\n",
       " (0.3333333333333333, 0.6588235294117647, 0.40784313725490196),\n",
       " (0.7686274509803922, 0.3058823529411765, 0.3215686274509804),\n",
       " (0.5058823529411764, 0.4470588235294118, 0.7019607843137254),\n",
       " (0.5764705882352941, 0.47058823529411764, 0.3764705882352941),\n",
       " (0.8549019607843137, 0.5450980392156862, 0.7647058823529411),\n",
       " (0.5490196078431373, 0.5490196078431373, 0.5490196078431373),\n",
       " (0.8, 0.7254901960784313, 0.4549019607843137),\n",
       " (0.39215686274509803, 0.7098039215686275, 0.803921568627451)]"
      ]
     },
     "execution_count": 2,
     "metadata": {},
     "output_type": "execute_result"
    }
   ],
   "source": [
    "deep = sns.color_palette('deep')\n",
    "deep"
   ]
  },
  {
   "cell_type": "code",
   "execution_count": 3,
   "id": "cda3b8e3-610f-49cb-9679-7292b06aa18f",
   "metadata": {},
   "outputs": [
    {
     "name": "stdout",
     "output_type": "stream",
     "text": [
      "196.0\n",
      "78.0\n",
      "82.0\n"
     ]
    }
   ],
   "source": [
    "for c in deep[3]:\n",
    "    print(255*c)"
   ]
  },
  {
   "cell_type": "code",
   "execution_count": 4,
   "id": "e538691a-4165-4f30-b3b1-54969ed0a750",
   "metadata": {},
   "outputs": [],
   "source": [
    "palette = [deep[1], deep[2]]"
   ]
  },
  {
   "cell_type": "code",
   "execution_count": 5,
   "id": "23e5e1e8-0ce3-4133-a9d4-a39b47c5bbc9",
   "metadata": {},
   "outputs": [
    {
     "data": {
      "text/html": [
       "<div>\n",
       "<style scoped>\n",
       "    .dataframe tbody tr th:only-of-type {\n",
       "        vertical-align: middle;\n",
       "    }\n",
       "\n",
       "    .dataframe tbody tr th {\n",
       "        vertical-align: top;\n",
       "    }\n",
       "\n",
       "    .dataframe thead th {\n",
       "        text-align: right;\n",
       "    }\n",
       "</style>\n",
       "<table border=\"1\" class=\"dataframe\">\n",
       "  <thead>\n",
       "    <tr style=\"text-align: right;\">\n",
       "      <th></th>\n",
       "      <th>system</th>\n",
       "      <th>sf</th>\n",
       "      <th>q</th>\n",
       "      <th>t</th>\n",
       "    </tr>\n",
       "  </thead>\n",
       "  <tbody>\n",
       "    <tr>\n",
       "      <th>0</th>\n",
       "      <td>duckdb</td>\n",
       "      <td>1000</td>\n",
       "      <td>1</td>\n",
       "      <td>37.247128</td>\n",
       "    </tr>\n",
       "    <tr>\n",
       "      <th>1</th>\n",
       "      <td>duckdb</td>\n",
       "      <td>1000</td>\n",
       "      <td>2</td>\n",
       "      <td>8.438411</td>\n",
       "    </tr>\n",
       "    <tr>\n",
       "      <th>2</th>\n",
       "      <td>duckdb</td>\n",
       "      <td>1000</td>\n",
       "      <td>3</td>\n",
       "      <td>63.607883</td>\n",
       "    </tr>\n",
       "    <tr>\n",
       "      <th>3</th>\n",
       "      <td>duckdb</td>\n",
       "      <td>1000</td>\n",
       "      <td>4</td>\n",
       "      <td>42.990948</td>\n",
       "    </tr>\n",
       "    <tr>\n",
       "      <th>4</th>\n",
       "      <td>duckdb</td>\n",
       "      <td>1000</td>\n",
       "      <td>5</td>\n",
       "      <td>63.486392</td>\n",
       "    </tr>\n",
       "  </tbody>\n",
       "</table>\n",
       "</div>"
      ],
      "text/plain": [
       "   system    sf  q          t\n",
       "0  duckdb  1000  1  37.247128\n",
       "1  duckdb  1000  2   8.438411\n",
       "2  duckdb  1000  3  63.607883\n",
       "3  duckdb  1000  4  42.990948\n",
       "4  duckdb  1000  5  63.486392"
      ]
     },
     "execution_count": 5,
     "metadata": {},
     "output_type": "execute_result"
    }
   ],
   "source": [
    "con = duckdb.connect()\n",
    "\n",
    "con.execute(\"\"\"\n",
    "CREATE MACRO pretty_system(s) AS\n",
    "CASE s\n",
    "WHEN 'duckdb' THEN 'DuckDB'\n",
    "WHEN 'hyper' THEN 'HyPer'\n",
    "WHEN 'postgresql' THEN 'PostgreSQL'\n",
    "WHEN 'umbra' THEN 'Umbra'\n",
    "ELSE s END\n",
    "\"\"\")\n",
    "\n",
    "systems = [\"duckdb\", \"hyper\"]\n",
    "\n",
    "for system in sorted(systems):\n",
    "    con.execute(f\"\"\"ATTACH IF NOT EXISTS '../results/{system}.duckdb' AS {system} (READ_ONLY TRUE);\"\"\")\n",
    "con.execute(f\"\"\"CREATE VIEW IF NOT EXISTS all_results AS ({' UNION ALL '.join([f\"SELECT '{system}' AS system, * FROM {system}.main.results\" for system in systems])})\"\"\")\n",
    "results_int_df = con.execute(\"\"\"\n",
    "SELECT * REPLACE (median(t) AS t)\n",
    "FROM all_results\n",
    "GROUP BY ALL\n",
    "ORDER BY ALL\"\"\").fetchdf()\n",
    "results_df = con.execute(\"\"\"SELECT * REPLACE(sf::VARCHAR as sf) FROM results_int_df\"\"\").fetchdf()\n",
    "results_df.head()"
   ]
  },
  {
   "cell_type": "code",
   "execution_count": 6,
   "id": "42f605ef-fb20-46cc-a94b-46ae94941beb",
   "metadata": {},
   "outputs": [],
   "source": [
    "my_style = {\n",
    "    'figure.facecolor': 'white',\n",
    "    'axes.labelcolor': '.15',\n",
    "    'xtick.direction': 'out',\n",
    "    'ytick.direction': 'out',\n",
    "    'xtick.color': '.15',\n",
    "    'ytick.color': '.15',\n",
    "    'axes.axisbelow': True,\n",
    "    'grid.linestyle': '-',\n",
    "    'text.color': '.0',\n",
    "    'font.family': ['sans-serif'],\n",
    "    'font.sans-serif': [\n",
    "        'Arial',\n",
    "        'DejaVu Sans',\n",
    "        'Liberation Sans',\n",
    "        'Bitstream Vera Sans',\n",
    "        'sans-serif'\n",
    "    ],\n",
    "    'lines.solid_capstyle': 'round',\n",
    "    'patch.edgecolor': 'w',\n",
    "    'patch.force_edgecolor': True,\n",
    "    'image.cmap': 'rocket',\n",
    "    'xtick.top': False,\n",
    "    'ytick.right': False,\n",
    "    'axes.grid': True,\n",
    "    'axes.facecolor': 'white',\n",
    "    'axes.edgecolor': '.0',\n",
    "    'grid.color': '.75',\n",
    "    'axes.spines.left': True,\n",
    "    'axes.spines.bottom': False,\n",
    "    'axes.spines.right': True,\n",
    "    'axes.spines.top': True,\n",
    "    'xtick.bottom': False,\n",
    "    'ytick.left': False\n",
    "}"
   ]
  },
  {
   "cell_type": "code",
   "execution_count": 7,
   "id": "827d25f1-17d3-4ab1-b199-53cf64c59d0d",
   "metadata": {},
   "outputs": [],
   "source": [
    "@FuncFormatter\n",
    "def my_formatter(x, pos):\n",
    "    if x >= 1:\n",
    "        # print(\"{:.0f}\".format(x))\n",
    "        return \"{:.0f}\".format(x)\n",
    "    # print(\"{:.1g}\".format(x))\n",
    "    return \"{:.1g}\".format(x)"
   ]
  },
  {
   "cell_type": "code",
   "execution_count": 11,
   "id": "07fcf91e-ef56-4450-b497-27e7b8ac0374",
   "metadata": {},
   "outputs": [
    {
     "name": "stderr",
     "output_type": "stream",
     "text": [
      "/var/folders/xb/2cf2mnw979g7ts_gvf4nry7h0000gn/T/ipykernel_86193/1548282036.py:36: UserWarning: set_ticklabels() should only be used with a fixed number of ticks, i.e. after set_ticks() or using a FixedLocator.\n",
      "  ax_bot.set_xticklabels(xticklabels , fontsize=tickfontsize)\n",
      "/var/folders/xb/2cf2mnw979g7ts_gvf4nry7h0000gn/T/ipykernel_86193/1548282036.py:107: UserWarning: This figure includes Axes that are not compatible with tight_layout, so results might be incorrect.\n",
      "  f.tight_layout()\n"
     ]
    },
    {
     "data": {
      "image/png": "[encoded data removed]",
      "text/plain": [
       "<Figure size 1400x200 with 2 Axes>"
      ]
     },
     "metadata": {},
     "output_type": "display_data"
    }
   ],
   "source": [
    "f, (ax_top, ax_bot) = plt.subplots(2, 1, sharex=True, figsize=(14, 2.0), dpi=100,\n",
    "                                   gridspec_kw={'height_ratios': [150, 350], 'wspace': -50})\n",
    "\n",
    "fontsize = 12\n",
    "tickfontsize = 11\n",
    "\n",
    "modified_style = copy.copy(my_style)\n",
    "modified_style['axes.labelsize'] = fontsize\n",
    "modified_style['ytick.labelsize'] = tickfontsize\n",
    "modified_style['grid.linewidth'] = 0.5\n",
    "modified_style['xtick.major.bottom'] = False\n",
    "\n",
    "for i, ax in enumerate([ax_top, ax_bot]):\n",
    "    p = (\n",
    "        so.Plot(\n",
    "            con.execute(f\"\"\"\n",
    "                SELECT pretty_system(system) as \"System\", q::VARCHAR as \"Query\",\n",
    "                       CASE t WHEN -1 THEN 1000 ELSE t END AS \"Execution Time [s]\", \n",
    "                FROM results_df\n",
    "            \"\"\").fetchdf(),\n",
    "            x='Query', y='Execution Time [s]', color='System'\n",
    "        )\n",
    "        .scale(color=palette)\n",
    "        .add(so.Bar(alpha=1), so.Dodge(gap=0.01))\n",
    "        .theme(modified_style)\n",
    "        .on(ax)\n",
    "        .plot()\n",
    "    )\n",
    "    legend = f.legends.pop(0)\n",
    "\n",
    "ax_top.set_title('TPC-H Scale Factor 1,000', fontsize=fontsize)\n",
    "\n",
    "timeouts = [7, 9, 10, 18]\n",
    "ax_bot.tick_params(axis='x', which='major')\n",
    "xticklabels = ax_bot.get_xticklabels()\n",
    "ax_bot.set_xticklabels(xticklabels , fontsize=tickfontsize)\n",
    "ax_bot.xaxis.labelpad = 5\n",
    "xmin, xmax = ax_bot.get_xlim()\n",
    "ax_bot.set_xlim(xmin, xmax)\n",
    "ax_top.set_xlabel('')\n",
    "ax_top.tick_params(axis='both', which='both', length=0, labelbottom=False)\n",
    "ax_bot.tick_params(axis='both', which='both', length=0, labelbottom=True)\n",
    "\n",
    "ax_top.yaxis.labelpad = 0\n",
    "ax_bot.yaxis.labelpad = 0\n",
    "\n",
    "ax_top.set_ylabel('')\n",
    "ax_bot.set_ylabel('')\n",
    "\n",
    "ax_bot.set_ylim(0, 350)\n",
    "yticklabels = [i * 100 for i in range(4)]\n",
    "ax_bot.set_yticks(yticklabels)\n",
    "ax_bot.set_yticklabels(yticklabels , fontsize=tickfontsize)\n",
    "\n",
    "ax_top.set_ylim(850, 1000)\n",
    "\n",
    "# ax_top.spines['bottom'].set_visible(False)\n",
    "# ax_bot.spines['top'].set_visible(False)\n",
    "ax_top.spines['bottom'].set_linestyle((0, (5, 8)))\n",
    "ax_bot.spines['top'].set_linestyle((0, (5, 8)))\n",
    "ax_top.spines['bottom'].set_lw(0.5)\n",
    "ax_bot.spines['top'].set_lw(0.5)\n",
    "ax_top.spines['bottom'].set_color('0.75')\n",
    "ax_bot.spines['top'].set_color('0.75')\n",
    "ax_top.spines['bottom'].set_zorder(0)\n",
    "ax_bot.spines['top'].set_zorder(0)\n",
    "\n",
    "for ax in [ax_top, ax_bot]:\n",
    "    ax.set_axisbelow(True)\n",
    "    ax.grid(True, alpha=1.0, color='0.75', axis='y', lw=0.5)\n",
    "\n",
    "for ax_idx, ax in enumerate([ax_top, ax_bot]):\n",
    "    # Iterate over the bars and manually add the top and side edges\n",
    "    \n",
    "    for i, bar in enumerate(ax.patches):\n",
    "        x, y, width, height = bar.get_x(), bar.get_y(), bar.get_width(), bar.get_height()\n",
    "\n",
    "        if ax_idx == 0:\n",
    "            timed_out = i - 21 in timeouts\n",
    "            if timed_out:\n",
    "                txt = ax.text(x + width / 2, height - 5, 'T', horizontalalignment='center', verticalalignment='top', color=palette[1], fontsize=18)\n",
    "                txt.set_path_effects([PathEffects.withStroke(linewidth=2, foreground='w')])\n",
    "        \n",
    "        # Manually draw the edges\n",
    "        ax.plot([x, x, x + width, x + width], [y, y + height, y + height, y], color='black', lw=1)\n",
    "\n",
    "f.text(0.085, 0.5, 'Execution Time [s]', rotation=90, horizontalalignment='center', verticalalignment='center', fontsize=fontsize)\n",
    "\n",
    "for handle in legend.legend_handles:\n",
    "    handle.set_edgecolor('black')\n",
    "    handle.set_lw(1)\n",
    "ax_top.legend(legend.legend_handles, [t.get_text() for t in legend.texts], loc='upper left', framealpha=1, fontsize=fontsize, ncol=2, edgecolor='black')\n",
    "\n",
    "# Add diagonal lines to indicate a break in the y-axis\n",
    "d = 0.003  # Size of the diagonal line break\n",
    "top_mult = 15\n",
    "bottom_mult = top_mult * 150/350\n",
    "offset = 0.01\n",
    "kwargs = dict(transform=ax_top.transAxes, color='k', clip_on=False, linewidth=1.25)\n",
    "ax_top.plot((-d, +d), (-d*top_mult - offset, +d*top_mult - offset), **kwargs)  # Top-left diagonal\n",
    "ax_top.plot((1 - d, 1 + d), (-d*top_mult - offset, +d*top_mult - offset), **kwargs)  # Top-right diagonal\n",
    "\n",
    "kwargs.update(transform=ax_bot.transAxes)  # Switch to the bottom axes for the second diagonal\n",
    "ax_bot.plot((-d, +d), (1 - d*bottom_mult + offset, 1 + d*bottom_mult + offset), **kwargs)  # Bottom-left diagonal\n",
    "ax_bot.plot((1 - d, 1 + d), (1 - d*bottom_mult + offset, 1 + d*bottom_mult + offset), **kwargs)  # Bottom-right diagonal\n",
    "\n",
    "f.tight_layout()\n",
    "f.savefig(f\"../figures/bar.eps\", bbox_inches='tight')\n",
    "f.savefig(f\"../figures/bar.pdf\", bbox_inches='tight')\n",
    "f.savefig(f\"../figures/bar.png\", bbox_inches='tight')"
   ]
  },
  {
   "cell_type": "code",
   "execution_count": 402,
   "id": "6bb19361-a51d-4314-82f0-50e33566cf7f",
   "metadata": {},
   "outputs": [
    {
     "data": {
      "text/plain": [
       "100.0"
      ]
     },
     "execution_count": 402,
     "metadata": {},
     "output_type": "execute_result"
    }
   ],
   "source": [
    "f.dpi"
   ]
  },
  {
   "cell_type": "code",
   "execution_count": 451,
   "id": "da8791c9-ec93-4bab-ae68-741a8f96487d",
   "metadata": {},
   "outputs": [
    {
     "name": "stdout",
     "output_type": "stream",
     "text": [
      "2.5\n"
     ]
    }
   ],
   "source": [
    "print(ax_top.spines['top'].get_zorder())"
   ]
  },
  {
   "cell_type": "code",
   "execution_count": null,
   "id": "4504be97-7e1e-4b30-b99a-a1f2780dd033",
   "metadata": {},
   "outputs": [],
   "source": []
  }
 ],
 "metadata": {
  "kernelspec": {
   "display_name": "my-env",
   "language": "python",
   "name": "my-env"
  },
  "language_info": {
   "codemirror_mode": {
    "name": "ipython",
    "version": 3
   },
   "file_extension": ".py",
   "mimetype": "text/x-python",
   "name": "python",
   "nbconvert_exporter": "python",
   "pygments_lexer": "ipython3",
   "version": "3.12.8"
  }
 },
 "nbformat": 4,
 "nbformat_minor": 5
}

{
 "cells": [
  {
   "cell_type": "code",
   "execution_count": 6,
   "id": "9d789bdb-375a-4bb2-8401-4190e7287046",
   "metadata": {},
   "outputs": [],
   "source": [
    "import duckdb\n",
    "import matplotlib.pyplot as plt\n",
    "from matplotlib.scale import LogScale\n",
    "from matplotlib.ticker import FuncFormatter\n",
    "import matplotlib.patheffects as PathEffects\n",
    "import matplotlib.patches as patches\n",
    "import numpy as np\n",
    "import pandas as pd\n",
    "import copy\n",
    "\n",
    "import seaborn as sns\n",
    "import seaborn.objects as so\n",
    "from seaborn import axes_style\n",
    "from seaborn import plotting_context"
   ]
  },
  {
   "cell_type": "code",
   "execution_count": 7,
   "id": "afca7087-7179-4660-9748-7ea57c2b124d",
   "metadata": {},
   "outputs": [
    {
     "data": {
      "text/html": [
       "<svg  width=\"550\" height=\"55\"><rect x=\"0\" y=\"0\" width=\"55\" height=\"55\" style=\"fill:#4c72b0;stroke-width:2;stroke:rgb(255,255,255)\"/><rect x=\"55\" y=\"0\" width=\"55\" height=\"55\" style=\"fill:#dd8452;stroke-width:2;stroke:rgb(255,255,255)\"/><rect x=\"110\" y=\"0\" width=\"55\" height=\"55\" style=\"fill:#55a868;stroke-width:2;stroke:rgb(255,255,255)\"/><rect x=\"165\" y=\"0\" width=\"55\" height=\"55\" style=\"fill:#c44e52;stroke-width:2;stroke:rgb(255,255,255)\"/><rect x=\"220\" y=\"0\" width=\"55\" height=\"55\" style=\"fill:#8172b3;stroke-width:2;stroke:rgb(255,255,255)\"/><rect x=\"275\" y=\"0\" width=\"55\" height=\"55\" style=\"fill:#937860;stroke-width:2;stroke:rgb(255,255,255)\"/><rect x=\"330\" y=\"0\" width=\"55\" height=\"55\" style=\"fill:#da8bc3;stroke-width:2;stroke:rgb(255,255,255)\"/><rect x=\"385\" y=\"0\" width=\"55\" height=\"55\" style=\"fill:#8c8c8c;stroke-width:2;stroke:rgb(255,255,255)\"/><rect x=\"440\" y=\"0\" width=\"55\" height=\"55\" style=\"fill:#ccb974;stroke-width:2;stroke:rgb(255,255,255)\"/><rect x=\"495\" y=\"0\" width=\"55\" height=\"55\" style=\"fill:#64b5cd;stroke-width:2;stroke:rgb(255,255,255)\"/></svg>"
      ],
      "text/plain": [
       "[(0.2980392156862745, 0.4470588235294118, 0.6901960784313725),\n",
       " (0.8666666666666667, 0.5176470588235295, 0.3215686274509804),\n",
       " (0.3333333333333333, 0.6588235294117647, 0.40784313725490196),\n",
       " (0.7686274509803922, 0.3058823529411765, 0.3215686274509804),\n",
       " (0.5058823529411764, 0.4470588235294118, 0.7019607843137254),\n",
       " (0.5764705882352941, 0.47058823529411764, 0.3764705882352941),\n",
       " (0.8549019607843137, 0.5450980392156862, 0.7647058823529411),\n",
       " (0.5490196078431373, 0.5490196078431373, 0.5490196078431373),\n",
       " (0.8, 0.7254901960784313, 0.4549019607843137),\n",
       " (0.39215686274509803, 0.7098039215686275, 0.803921568627451)]"
      ]
     },
     "execution_count": 7,
     "metadata": {},
     "output_type": "execute_result"
    }
   ],
   "source": [
    "deep = sns.color_palette('deep')\n",
    "deep"
   ]
  },
  {
   "cell_type": "code",
   "execution_count": 24,
   "id": "e538691a-4165-4f30-b3b1-54969ed0a750",
   "metadata": {},
   "outputs": [],
   "source": [
    "palette = [deep[1]] #, deep[2]]"
   ]
  },
  {
   "cell_type": "code",
   "execution_count": 34,
   "id": "23e5e1e8-0ce3-4133-a9d4-a39b47c5bbc9",
   "metadata": {},
   "outputs": [
    {
     "data": {
      "text/html": [
       "<div>\n",
       "<style scoped>\n",
       "    .dataframe tbody tr th:only-of-type {\n",
       "        vertical-align: middle;\n",
       "    }\n",
       "\n",
       "    .dataframe tbody tr th {\n",
       "        vertical-align: top;\n",
       "    }\n",
       "\n",
       "    .dataframe thead th {\n",
       "        text-align: right;\n",
       "    }\n",
       "</style>\n",
       "<table border=\"1\" class=\"dataframe\">\n",
       "  <thead>\n",
       "    <tr style=\"text-align: right;\">\n",
       "      <th></th>\n",
       "      <th>system</th>\n",
       "      <th>sf</th>\n",
       "      <th>q</th>\n",
       "      <th>t</th>\n",
       "    </tr>\n",
       "  </thead>\n",
       "  <tbody>\n",
       "    <tr>\n",
       "      <th>0</th>\n",
       "      <td>duckdb</td>\n",
       "      <td>1000</td>\n",
       "      <td>1</td>\n",
       "      <td>37.247128</td>\n",
       "    </tr>\n",
       "    <tr>\n",
       "      <th>1</th>\n",
       "      <td>duckdb</td>\n",
       "      <td>1000</td>\n",
       "      <td>2</td>\n",
       "      <td>8.438411</td>\n",
       "    </tr>\n",
       "    <tr>\n",
       "      <th>2</th>\n",
       "      <td>duckdb</td>\n",
       "      <td>1000</td>\n",
       "      <td>3</td>\n",
       "      <td>63.607883</td>\n",
       "    </tr>\n",
       "    <tr>\n",
       "      <th>3</th>\n",
       "      <td>duckdb</td>\n",
       "      <td>1000</td>\n",
       "      <td>4</td>\n",
       "      <td>42.990948</td>\n",
       "    </tr>\n",
       "    <tr>\n",
       "      <th>4</th>\n",
       "      <td>duckdb</td>\n",
       "      <td>1000</td>\n",
       "      <td>5</td>\n",
       "      <td>63.486392</td>\n",
       "    </tr>\n",
       "  </tbody>\n",
       "</table>\n",
       "</div>"
      ],
      "text/plain": [
       "   system    sf  q          t\n",
       "0  duckdb  1000  1  37.247128\n",
       "1  duckdb  1000  2   8.438411\n",
       "2  duckdb  1000  3  63.607883\n",
       "3  duckdb  1000  4  42.990948\n",
       "4  duckdb  1000  5  63.486392"
      ]
     },
     "execution_count": 34,
     "metadata": {},
     "output_type": "execute_result"
    }
   ],
   "source": [
    "con = duckdb.connect()\n",
    "\n",
    "con.execute(\"\"\"\n",
    "CREATE MACRO pretty_system(s) AS\n",
    "CASE s\n",
    "WHEN 'duckdb' THEN 'DuckDB'\n",
    "WHEN 'hyper' THEN 'HyPer'\n",
    "WHEN 'postgresql' THEN 'PostgreSQL'\n",
    "WHEN 'umbra' THEN 'Umbra'\n",
    "ELSE s END\n",
    "\"\"\")\n",
    "\n",
    "systems = [\"duckdb\"] #, \"hyper\"]\n",
    "\n",
    "for system in sorted(systems):\n",
    "    con.execute(f\"\"\"ATTACH IF NOT EXISTS '../results/{system}.duckdb' AS {system} (READ_ONLY TRUE);\"\"\")\n",
    "con.execute(f\"\"\"CREATE VIEW IF NOT EXISTS all_results AS ({' UNION ALL '.join([f\"SELECT '{system}' AS system, * FROM {system}.main.results\" for system in systems])})\"\"\")\n",
    "results_int_df = con.execute(\"\"\"\n",
    "SELECT * REPLACE (median(t) AS t)\n",
    "FROM all_results\n",
    "GROUP BY ALL\n",
    "ORDER BY ALL\"\"\").fetchdf()\n",
    "results_df = con.execute(\"\"\"SELECT * REPLACE(sf::VARCHAR as sf) FROM results_int_df\"\"\").fetchdf()\n",
    "results_df.head()"
   ]
  },
  {
   "cell_type": "code",
   "execution_count": 35,
   "id": "42f605ef-fb20-46cc-a94b-46ae94941beb",
   "metadata": {},
   "outputs": [],
   "source": [
    "my_style = {\n",
    "    'figure.facecolor': 'white',\n",
    "    'axes.labelcolor': '.15',\n",
    "    'xtick.direction': 'out',\n",
    "    'ytick.direction': 'out',\n",
    "    'xtick.color': '.15',\n",
    "    'ytick.color': '.15',\n",
    "    'axes.axisbelow': True,\n",
    "    'grid.linestyle': '-',\n",
    "    'text.color': '.0',\n",
    "    'font.family': ['sans-serif'],\n",
    "    'font.sans-serif': [\n",
    "        'Arial',\n",
    "        'DejaVu Sans',\n",
    "        'Liberation Sans',\n",
    "        'Bitstream Vera Sans',\n",
    "        'sans-serif'\n",
    "    ],\n",
    "    'lines.solid_capstyle': 'round',\n",
    "    'patch.edgecolor': 'w',\n",
    "    'patch.force_edgecolor': True,\n",
    "    'image.cmap': 'rocket',\n",
    "    'xtick.top': False,\n",
    "    'ytick.right': False,\n",
    "    'axes.grid': True,\n",
    "    'axes.facecolor': 'white',\n",
    "    'axes.edgecolor': '.0',\n",
    "    'grid.color': '.9',\n",
    "    'axes.spines.left': True,\n",
    "    'axes.spines.bottom': True,\n",
    "    'axes.spines.right': True,\n",
    "    'axes.spines.top': True,\n",
    "    'xtick.bottom': False,\n",
    "    'ytick.left': False\n",
    "}"
   ]
  },
  {
   "cell_type": "code",
   "execution_count": 36,
   "id": "827d25f1-17d3-4ab1-b199-53cf64c59d0d",
   "metadata": {},
   "outputs": [],
   "source": [
    "@FuncFormatter\n",
    "def my_formatter(x, pos):\n",
    "    if x >= 1:\n",
    "        # print(\"{:.0f}\".format(x))\n",
    "        return \"{:.0f}\".format(x)\n",
    "    # print(\"{:.1g}\".format(x))\n",
    "    return \"{:.1g}\".format(x)"
   ]
  },
  {
   "cell_type": "code",
   "execution_count": 53,
   "id": "07fcf91e-ef56-4450-b497-27e7b8ac0374",
   "metadata": {},
   "outputs": [
    {
     "data": {
      "image/png": "[encoded data removed]",
      "text/plain": [
       "<Figure size 1200x600 with 1 Axes>"
      ]
     },
     "metadata": {},
     "output_type": "display_data"
    }
   ],
   "source": [
    "f = plt.figure(figsize=(12, 6))\n",
    "\n",
    "fontsize = 13\n",
    "tickfontsize = 11\n",
    "\n",
    "modified_style = copy.copy(my_style)\n",
    "modified_style['xtick.major.bottom'] = True\n",
    "modified_style['axes.labelsize'] = fontsize\n",
    "modified_style['ytick.labelsize'] = tickfontsize\n",
    "# modified_style['ytick.major.left'] = False\n",
    "\n",
    "p = (\n",
    "    so.Plot(\n",
    "        con.execute(f\"\"\"\n",
    "            SELECT pretty_system(system) as \"System\",\n",
    "                   t AS \"Execution Time [s]\", q::VARCHAR as \"Query\"\n",
    "            FROM results_df\n",
    "            WHERE t > 0\n",
    "        \"\"\").fetchdf(),\n",
    "        x='Query', y='Execution Time [s]', color='System'\n",
    "    )\n",
    "    .scale(color=palette)\n",
    "    .add(so.Bar(alpha=1))\n",
    "    .theme(modified_style)\n",
    "    .on(f)\n",
    "    .plot()\n",
    ")\n",
    "\n",
    "legend = f.legends.pop(0)\n",
    "f.axes[0].legend(legend.legend_handles, [t.get_text() for t in legend.texts], loc='upper left', framealpha=1, fontsize=15, ncol=1)\n",
    "\n",
    "f.tight_layout()\n",
    "f.savefig(f\"../figures/bar.eps\", bbox_inches='tight')"
   ]
  },
  {
   "cell_type": "code",
   "execution_count": null,
   "id": "2649b0f6-5765-45b3-a685-71a46bc68682",
   "metadata": {},
   "outputs": [],
   "source": []
  }
 ],
 "metadata": {
  "kernelspec": {
   "display_name": "my-env",
   "language": "python",
   "name": "my-env"
  },
  "language_info": {
   "codemirror_mode": {
    "name": "ipython",
    "version": 3
   },
   "file_extension": ".py",
   "mimetype": "text/x-python",
   "name": "python",
   "nbconvert_exporter": "python",
   "pygments_lexer": "ipython3",
   "version": "3.12.6"
  }
 },
 "nbformat": 4,
 "nbformat_minor": 5
}

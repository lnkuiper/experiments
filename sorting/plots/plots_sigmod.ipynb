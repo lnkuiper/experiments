{
 "cells": [
  {
   "cell_type": "code",
   "execution_count": 1,
   "id": "5d623996",
   "metadata": {},
   "outputs": [],
   "source": [
    "import pandas as pd\n",
    "from matplotlib import pyplot as plt\n",
    "import matplotlib.ticker as ticker\n",
    "import seaborn as sns\n",
    "import duckdb\n",
    "con = duckdb.connect()"
   ]
  },
  {
   "cell_type": "code",
   "execution_count": 2,
   "id": "04ab0ef0",
   "metadata": {},
   "outputs": [],
   "source": [
    "import warnings\n",
    "warnings.filterwarnings('ignore')"
   ]
  },
  {
   "cell_type": "code",
   "execution_count": 3,
   "id": "b2d98051",
   "metadata": {},
   "outputs": [
    {
     "data": {
      "image/png": "[encoded data removed]",
      "text/html": [
       "<div style=\"vertical-align: middle;\"><strong>blend</strong> </div><div class=\"cmap\"><img alt=\"blend colormap\" title=\"blend\" style=\"border: 1px solid #555;\" src=\"data:image/png;base64,iVBORw0KGgoAAAANSUhEUgAAAgAAAABACAYAAABsv8+/AAAAFHRFWHRUaXRsZQBibGVuZCBjb2xvcm1hcKH0gPAAAAAadEVYdERlc2NyaXB0aW9uAGJsZW5kIGNvbG9ybWFwX6spFgAAADB0RVh0QXV0aG9yAE1hdHBsb3RsaWIgdjMuNS4xLCBodHRwczovL21hdHBsb3RsaWIub3Jn97fOzwAAADJ0RVh0U29mdHdhcmUATWF0cGxvdGxpYiB2My41LjEsIGh0dHBzOi8vbWF0cGxvdGxpYi5vcmfZEVHoAAACB0lEQVR4nO3WTU7rMBiG0S/ZFQthw6yrrRk0BdWpiYtQGbznTHpjIv8k0dWzfLy/taqqZVmrrv+4/q5LPRzfrpev+7rr/r71/vr2937eZe3XGay/W6/fz2D8YL3dfS8//9x9o/WWbt/z5z/a58/Pfbz+7HsezLs+fi/9fobPafieB+uvg/f38vPPfucH3+/R+bfx83KuqqpTO1VVVatWVVWXdv1t7bL93sbvr7/Gqx+/HMyzjdfk/P149fNPrrtbb/KcNdrfYB+7/f3VcxyM//Jc39f9fE++x9v4s8/pNl6T8/f7rvZ4fPic+/X+63udPOfue5h8vpPvb/vfAABIIgAAIJAAAIBAAgAAAgkAAAgkAAAgkAAAgEACAAACCQAACCQAACCQAACAQAIAAAIJAAAIJAAAIJAAAIBAAgAAAgkAAAgkAAAgkAAAgEACAAACCQAACCQAACCQAACAQAIAAAIJAAAIJAAAIJAAAIBAAgAAAgkAAAgkAAAgkAAAgEACAAACCQAACCQAACCQAACAQAIAAAIJAAAIJAAAIJAAAIBAAgAAAgkAAAgkAAAgkAAAgEACAAACCQAACCQAACCQAACAQAIAAAIJAAAIJAAAIJAAAIBAAgAAAgkAAAgkAAAgkAAAgEACAAACCQAACCQAACCQAACAQAIAAAIJAAAIJAAAIJAAAIBAn3C6b40EVjO1AAAAAElFTkSuQmCC\"></div><div style=\"vertical-align: middle; max-width: 514px; display: flex; justify-content: space-between;\"><div style=\"float: left;\"><div title=\"#c3553aff\" style=\"display: inline-block; width: 1em; height: 1em; margin: 0; vertical-align: middle; border: 1px solid #555; background-color: #c3553aff;\"></div> under</div><div style=\"margin: 0 auto; display: inline-block;\">bad <div title=\"#00000000\" style=\"display: inline-block; width: 1em; height: 1em; margin: 0; vertical-align: middle; border: 1px solid #555; background-color: #00000000;\"></div></div><div style=\"float: right;\">over <div title=\"#428638ff\" style=\"display: inline-block; width: 1em; height: 1em; margin: 0; vertical-align: middle; border: 1px solid #555; background-color: #428638ff;\"></div></div>"
      ],
      "text/plain": [
       "<matplotlib.colors.LinearSegmentedColormap at 0x105a2e5b0>"
      ]
     },
     "execution_count": 3,
     "metadata": {},
     "output_type": "execute_result"
    }
   ],
   "source": [
    "sns.set_theme()\n",
    "sns.set_style('ticks', {\"axes.grid\": True})\n",
    "sns.set_context('talk')\n",
    "hm_w = 7.5\n",
    "hm_h = 2.75\n",
    "set_title = False\n",
    "my_cmap = sns.diverging_palette(20, 125, as_cmap=True)\n",
    "my_cmap"
   ]
  },
  {
   "cell_type": "code",
   "execution_count": 4,
   "id": "7ea38cb1",
   "metadata": {},
   "outputs": [
    {
     "data": {
      "text/html": [
       "<svg  width=\"330\" height=\"55\"><rect x=\"0\" y=\"0\" width=\"55\" height=\"55\" style=\"fill:#c3553a;stroke-width:2;stroke:rgb(255,255,255)\"/><rect x=\"55\" y=\"0\" width=\"55\" height=\"55\" style=\"fill:#d69483;stroke-width:2;stroke:rgb(255,255,255)\"/><rect x=\"110\" y=\"0\" width=\"55\" height=\"55\" style=\"fill:#e9d2cd;stroke-width:2;stroke:rgb(255,255,255)\"/><rect x=\"165\" y=\"0\" width=\"55\" height=\"55\" style=\"fill:#cbddc9;stroke-width:2;stroke:rgb(255,255,255)\"/><rect x=\"220\" y=\"0\" width=\"55\" height=\"55\" style=\"fill:#86b180;stroke-width:2;stroke:rgb(255,255,255)\"/><rect x=\"275\" y=\"0\" width=\"55\" height=\"55\" style=\"fill:#428638;stroke-width:2;stroke:rgb(255,255,255)\"/></svg>"
      ],
      "text/plain": [
       "[(0.7634747047461135, 0.3348456555528834, 0.225892295531744),\n",
       " (0.8384144678873866, 0.5785740917778832, 0.5129511551488872),\n",
       " (0.9140860646530862, 0.8246826885128927, 0.8028133239419791),\n",
       " (0.7974936879014439, 0.868249489534432, 0.788438813627399),\n",
       " (0.5270994310316574, 0.6954476571009066, 0.5033714796732588),\n",
       " (0.25932020565964425, 0.5243170222731213, 0.22106108318482592)]"
      ]
     },
     "execution_count": 4,
     "metadata": {},
     "output_type": "execute_result"
    }
   ],
   "source": [
    "my_palette = sns.diverging_palette(20, 125, as_cmap=False)\n",
    "my_palette"
   ]
  },
  {
   "cell_type": "code",
   "execution_count": 5,
   "id": "6e09ea95",
   "metadata": {},
   "outputs": [],
   "source": [
    "two_palette = [my_palette[5], my_palette[0]]"
   ]
  },
  {
   "cell_type": "code",
   "execution_count": 6,
   "id": "0c53d9ff",
   "metadata": {},
   "outputs": [],
   "source": [
    "systems = ['duckdb', 'umbra']\n",
    "markers = ['o', '^'] #['d' for _ in range(len(systems))]"
   ]
  },
  {
   "cell_type": "code",
   "execution_count": 7,
   "id": "6bbb08af",
   "metadata": {},
   "outputs": [],
   "source": [
    "def system_case(s):\n",
    "    if s == 'duckdb':\n",
    "        return 'DuckDB'\n",
    "    elif s == 'umbra':\n",
    "        return 'Umbra'\n",
    "    else:\n",
    "        return s"
   ]
  },
  {
   "cell_type": "code",
   "execution_count": 8,
   "id": "905abfae",
   "metadata": {},
   "outputs": [],
   "source": [
    "def fix_ylim(ax):\n",
    "    min_y = 1e99\n",
    "    for col in ax.collections:\n",
    "        min_y = min(min_y, col.get_offsets()[0][1])\n",
    "    diff = ax.get_ylim()[0] - min_y\n",
    "    ax.set_ylim(bottom=diff)"
   ]
  },
  {
   "cell_type": "code",
   "execution_count": 23,
   "id": "ac4081c0",
   "metadata": {},
   "outputs": [],
   "source": [
    "def parse_cs_csv():\n",
    "    q = []\n",
    "    for sys in systems:\n",
    "        for sf in [10, 100]:\n",
    "            q.append(f\"\"\"\n",
    "                      select column0 as q, column1 as time, '{system_case(sys)}' as system, {sf} as sf\n",
    "                      from read_csv_auto('../results/{sys}/tpcds/sf{sf}/catalog_sales/results.csv')\n",
    "                      \"\"\")\n",
    "    q = \" UNION ALL \".join(q)\n",
    "    con.execute(f\"\"\"\n",
    "    with csv_cte as (\n",
    "        {q}\n",
    "    ), fixed as (\n",
    "        select string_split(q, 'sorting')[1]::INT q, time, system, sf\n",
    "        from csv_cte\n",
    "    )\n",
    "    select q, median(time) as time, system, sf\n",
    "    from fixed\n",
    "    group by q, system, sf\n",
    "    \"\"\")\n",
    "    return con.fetchdf()"
   ]
  },
  {
   "cell_type": "code",
   "execution_count": 24,
   "id": "67900ae0",
   "metadata": {},
   "outputs": [],
   "source": [
    "def parse_c_csv():\n",
    "    q = []\n",
    "    for sys in systems:\n",
    "        for sf in [10, 100]:\n",
    "            q.append(f\"\"\"\n",
    "                      select column0 as q, column1 as time, '{system_case(sys)}' as system, {sf} as sf\n",
    "                      from read_csv_auto('../results/{sys}/tpcds/sf{sf}/customer/results.csv')\n",
    "                      \"\"\")\n",
    "    q = \" UNION ALL \".join(q)\n",
    "    con.execute(f\"\"\"\n",
    "    with csv_cte as (\n",
    "        {q}\n",
    "    )\n",
    "    select case when q = 'sort_ints' then 'integer' else 'string' end as q,\n",
    "           median(time) as time, system, sf\n",
    "    from csv_cte\n",
    "    group by q, system, sf\n",
    "    \"\"\")\n",
    "    return con.fetchdf()"
   ]
  },
  {
   "cell_type": "markdown",
   "id": "ca902cd9",
   "metadata": {},
   "source": [
    "# Catalog Sales"
   ]
  },
  {
   "cell_type": "code",
   "execution_count": 25,
   "id": "b65e47cb",
   "metadata": {},
   "outputs": [
    {
     "data": {
      "text/html": [
       "<div>\n",
       "<style scoped>\n",
       "    .dataframe tbody tr th:only-of-type {\n",
       "        vertical-align: middle;\n",
       "    }\n",
       "\n",
       "    .dataframe tbody tr th {\n",
       "        vertical-align: top;\n",
       "    }\n",
       "\n",
       "    .dataframe thead th {\n",
       "        text-align: right;\n",
       "    }\n",
       "</style>\n",
       "<table border=\"1\" class=\"dataframe\">\n",
       "  <thead>\n",
       "    <tr style=\"text-align: right;\">\n",
       "      <th></th>\n",
       "      <th>q</th>\n",
       "      <th>time</th>\n",
       "      <th>system</th>\n",
       "      <th>sf</th>\n",
       "    </tr>\n",
       "  </thead>\n",
       "  <tbody>\n",
       "    <tr>\n",
       "      <th>0</th>\n",
       "      <td>1</td>\n",
       "      <td>0.352441</td>\n",
       "      <td>DuckDB</td>\n",
       "      <td>10</td>\n",
       "    </tr>\n",
       "    <tr>\n",
       "      <th>1</th>\n",
       "      <td>2</td>\n",
       "      <td>0.378332</td>\n",
       "      <td>DuckDB</td>\n",
       "      <td>10</td>\n",
       "    </tr>\n",
       "    <tr>\n",
       "      <th>2</th>\n",
       "      <td>3</td>\n",
       "      <td>0.511891</td>\n",
       "      <td>DuckDB</td>\n",
       "      <td>10</td>\n",
       "    </tr>\n",
       "    <tr>\n",
       "      <th>3</th>\n",
       "      <td>4</td>\n",
       "      <td>0.543758</td>\n",
       "      <td>DuckDB</td>\n",
       "      <td>10</td>\n",
       "    </tr>\n",
       "    <tr>\n",
       "      <th>4</th>\n",
       "      <td>1</td>\n",
       "      <td>4.487421</td>\n",
       "      <td>DuckDB</td>\n",
       "      <td>100</td>\n",
       "    </tr>\n",
       "  </tbody>\n",
       "</table>\n",
       "</div>"
      ],
      "text/plain": [
       "   q      time  system   sf\n",
       "0  1  0.352441  DuckDB   10\n",
       "1  2  0.378332  DuckDB   10\n",
       "2  3  0.511891  DuckDB   10\n",
       "3  4  0.543758  DuckDB   10\n",
       "4  1  4.487421  DuckDB  100"
      ]
     },
     "execution_count": 25,
     "metadata": {},
     "output_type": "execute_result"
    }
   ],
   "source": [
    "cs_df = parse_cs_csv()\n",
    "cs_df.head()"
   ]
  },
  {
   "cell_type": "code",
   "execution_count": 30,
   "id": "7386db16",
   "metadata": {},
   "outputs": [
    {
     "data": {
      "image/png": "[encoded data removed]",
      "text/plain": [
       "<Figure size 839.9x360 with 2 Axes>"
      ]
     },
     "metadata": {},
     "output_type": "display_data"
    }
   ],
   "source": [
    "with plt.rc_context({'lines.linewidth': 1.5}):\n",
    "    plot = sns.catplot(data=cs_df, col='sf', kind='point', markers=markers, x='q', y='time',\n",
    "                       hue='system', sharey=False, sharex=True, col_wrap=2,\n",
    "                       palette=two_palette, facet_kws=dict(despine=False))\n",
    "\n",
    "for i, ax in enumerate(plot.axes):\n",
    "    ax.set_ylabel('Execution time [s]')\n",
    "    \n",
    "    fix_ylim(ax)\n",
    "    if i == 0:\n",
    "        ax.set_title('SF10')\n",
    "    else:\n",
    "        ax.set_title('SF100')\n",
    "        ax.set_ylabel('')\n",
    "    ax.set_xlabel('Key columns')\n",
    "    ax.grid(True)\n",
    "    for col in ax.collections:\n",
    "        col.set_sizes([25])\n",
    "\n",
    "for lh in plot._legend.legendHandles:\n",
    "    lh._sizes = [100]\n",
    "    lh._linewidths = [5]\n",
    "    \n",
    "plot._legend.set_visible(False)\n",
    "handles, labels = plot.axes[0].get_legend_handles_labels()\n",
    "\n",
    "with plt.rc_context({'legend.markerscale': 2.5}):\n",
    "    lgnd = plot.axes[1].legend(handles=handles, labels=labels, frameon=True, framealpha=1, loc='lower right')\n",
    "\n",
    "plt.savefig('figs_sigmod/catalog_sales.eps', bbox_inches=\"tight\")"
   ]
  },
  {
   "cell_type": "markdown",
   "id": "6941c3d5",
   "metadata": {},
   "source": [
    "# Customer"
   ]
  },
  {
   "cell_type": "code",
   "execution_count": 27,
   "id": "8c7989f9",
   "metadata": {},
   "outputs": [
    {
     "data": {
      "text/html": [
       "<div>\n",
       "<style scoped>\n",
       "    .dataframe tbody tr th:only-of-type {\n",
       "        vertical-align: middle;\n",
       "    }\n",
       "\n",
       "    .dataframe tbody tr th {\n",
       "        vertical-align: top;\n",
       "    }\n",
       "\n",
       "    .dataframe thead th {\n",
       "        text-align: right;\n",
       "    }\n",
       "</style>\n",
       "<table border=\"1\" class=\"dataframe\">\n",
       "  <thead>\n",
       "    <tr style=\"text-align: right;\">\n",
       "      <th></th>\n",
       "      <th>q</th>\n",
       "      <th>time</th>\n",
       "      <th>system</th>\n",
       "      <th>sf</th>\n",
       "    </tr>\n",
       "  </thead>\n",
       "  <tbody>\n",
       "    <tr>\n",
       "      <th>0</th>\n",
       "      <td>integer</td>\n",
       "      <td>0.058959</td>\n",
       "      <td>DuckDB</td>\n",
       "      <td>10</td>\n",
       "    </tr>\n",
       "    <tr>\n",
       "      <th>1</th>\n",
       "      <td>string</td>\n",
       "      <td>0.079680</td>\n",
       "      <td>DuckDB</td>\n",
       "      <td>10</td>\n",
       "    </tr>\n",
       "    <tr>\n",
       "      <th>2</th>\n",
       "      <td>integer</td>\n",
       "      <td>0.121511</td>\n",
       "      <td>DuckDB</td>\n",
       "      <td>100</td>\n",
       "    </tr>\n",
       "    <tr>\n",
       "      <th>3</th>\n",
       "      <td>string</td>\n",
       "      <td>0.683027</td>\n",
       "      <td>DuckDB</td>\n",
       "      <td>100</td>\n",
       "    </tr>\n",
       "    <tr>\n",
       "      <th>4</th>\n",
       "      <td>integer</td>\n",
       "      <td>0.036572</td>\n",
       "      <td>Umbra</td>\n",
       "      <td>10</td>\n",
       "    </tr>\n",
       "  </tbody>\n",
       "</table>\n",
       "</div>"
      ],
      "text/plain": [
       "         q      time  system   sf\n",
       "0  integer  0.058959  DuckDB   10\n",
       "1   string  0.079680  DuckDB   10\n",
       "2  integer  0.121511  DuckDB  100\n",
       "3   string  0.683027  DuckDB  100\n",
       "4  integer  0.036572   Umbra   10"
      ]
     },
     "execution_count": 27,
     "metadata": {},
     "output_type": "execute_result"
    }
   ],
   "source": [
    "c_df = parse_c_csv()\n",
    "c_df.head()"
   ]
  },
  {
   "cell_type": "code",
   "execution_count": 28,
   "id": "adb7427c",
   "metadata": {},
   "outputs": [
    {
     "data": {
      "image/png": "[encoded data removed]",
      "text/plain": [
       "<Figure size 839.9x360 with 2 Axes>"
      ]
     },
     "metadata": {},
     "output_type": "display_data"
    }
   ],
   "source": [
    "kwargs = {'linewidth': 1, 'edgecolor': 'black'}\n",
    "plot = sns.catplot(data=c_df, col='sf', kind='bar', x='q', y='time', hue='system',\n",
    "                   sharey=False, sharex=False, col_wrap=2, palette=two_palette, facet_kws=dict(despine=False),\n",
    "                   **kwargs)\n",
    "\n",
    "for i, ax in enumerate(plot.axes):\n",
    "    if i == 0:\n",
    "        ax.set_ylabel('Execution time [s]')\n",
    "        ax.set_title('SF100')\n",
    "    else:\n",
    "        ax.set_title('SF300')\n",
    "        ax.tick_params(axis='y', which='major', length=0)\n",
    "    ax.tick_params(axis='x', which='major', length=0)\n",
    "    ax.set_xlabel('')\n",
    "\n",
    "plot._legend.set_visible(False)\n",
    "handles, labels = plot.axes[0].get_legend_handles_labels()\n",
    "lgnd = plot.axes[1].legend(handles=handles, labels=labels, frameon=True, loc='upper left', framealpha=1)\n",
    "\n",
    "plt.savefig('figs_sigmod/key_type.eps', bbox_inches=\"tight\")"
   ]
  },
  {
   "cell_type": "code",
   "execution_count": null,
   "id": "06cf13f8",
   "metadata": {},
   "outputs": [],
   "source": []
  }
 ],
 "metadata": {
  "kernelspec": {
   "display_name": "Python 3 (ipykernel)",
   "language": "python",
   "name": "python3"
  },
  "language_info": {
   "codemirror_mode": {
    "name": "ipython",
    "version": 3
   },
   "file_extension": ".py",
   "mimetype": "text/x-python",
   "name": "python",
   "nbconvert_exporter": "python",
   "pygments_lexer": "ipython3",
   "version": "3.9.12"
  }
 },
 "nbformat": 4,
 "nbformat_minor": 5
}

{
 "cells": [
  {
   "cell_type": "code",
   "execution_count": 388,
   "id": "e4d15b1e",
   "metadata": {},
   "outputs": [],
   "source": [
    "import duckdb\n",
    "import lorem\n",
    "import math\n",
    "import matplotlib.pyplot as plt\n",
    "import numpy as np\n",
    "import pandas as pd\n",
    "import random\n",
    "import seaborn as sns\n",
    "import time\n",
    "import tqdm"
   ]
  },
  {
   "cell_type": "markdown",
   "id": "152e6711",
   "metadata": {},
   "source": [
    "# Source Column Data"
   ]
  },
  {
   "cell_type": "code",
   "execution_count": 342,
   "id": "6a7f956f",
   "metadata": {},
   "outputs": [],
   "source": [
    "NL = '\\n'\n",
    "TAB = '\\t'\n",
    "SOURCE_DATA_DIR = 'data/source'\n",
    "GROUPS_DATA_DIR = 'data/groups'\n",
    "sns.set_style(\"whitegrid\")"
   ]
  },
  {
   "cell_type": "code",
   "execution_count": 3,
   "id": "2ec6143c",
   "metadata": {},
   "outputs": [],
   "source": [
    "con = duckdb.connect()"
   ]
  },
  {
   "cell_type": "markdown",
   "id": "0a2d8245",
   "metadata": {},
   "source": [
    "## Strings"
   ]
  },
  {
   "cell_type": "code",
   "execution_count": 346,
   "id": "7b963162",
   "metadata": {},
   "outputs": [],
   "source": [
    "def create_distinct_string_data(con, name, min_strlen, max_strlen, count):\n",
    "    l = [c for c in list(lorem.text()) if c != '\\r' ]\n",
    "    source_string = ''\n",
    "    \n",
    "    offset_in_source = 0\n",
    "    strlen_range = max_strlen - min_strlen\n",
    "    \n",
    "    unique_strings = set()\n",
    "    while (len(unique_strings) < count):\n",
    "        strlen = min_strlen + math.ceil(random.random() * strlen_range)\n",
    "        \n",
    "        if offset_in_source + strlen > len(source_string):\n",
    "            random.shuffle(l)\n",
    "            source_string = ''.join(l)\n",
    "            offset_in_source = 0\n",
    "        \n",
    "        unique_strings.add(source_string[offset_in_source:offset_in_source + strlen])\n",
    "        offset_in_source += strlen\n",
    "    \n",
    "    unique_strings = pd.DataFrame(list(unique_strings), columns=['c0'])\n",
    "    con.execute(f\"\"\"\n",
    "    COPY (SELECT * FROM unique_strings)\n",
    "    TO '{SOURCE_DATA_DIR}/{name}_strings.parquet'\n",
    "    \"\"\")"
   ]
  },
  {
   "cell_type": "code",
   "execution_count": 340,
   "id": "36c6891f",
   "metadata": {},
   "outputs": [],
   "source": [
    "string_params = [\n",
    "    ('tiny', 1, 1, 20),\n",
    "    ('small', 4, 7, int(1e6)),\n",
    "    ('medium', 8, 15, int(1e6)),\n",
    "    ('large', 16, 31, int(1e6)),\n",
    "    ('huge', 32, 63, int(1e6)),\n",
    "]\n",
    "\n",
    "for param in string_params:\n",
    "    create_distinct_string_data(con, *param)"
   ]
  },
  {
   "cell_type": "markdown",
   "id": "e761d3dc",
   "metadata": {},
   "source": [
    "## Integral"
   ]
  },
  {
   "cell_type": "code",
   "execution_count": 347,
   "id": "dd1510ab",
   "metadata": {},
   "outputs": [],
   "source": [
    "limits = {\n",
    "    'tinyint': (1 << 7) - 1,\n",
    "    'smallint': (1 << 15) - 1,\n",
    "    'integer': (1 << 31) - 1,\n",
    "    'bigint': (1 << 63) - 1,\n",
    "}\n",
    "\n",
    "def create_distinct_integral_data(con, t, count):\n",
    "    limit = limits[t]\n",
    "    con.execute(f\"\"\"\n",
    "    COPY (SELECT DISTINCT CAST(random() * {limit} - {limit} / 2 AS {t}) c0\n",
    "          FROM range({count})\n",
    "    ) TO '{SOURCE_DATA_DIR}/{t}s.parquet'\n",
    "    \"\"\")"
   ]
  },
  {
   "cell_type": "code",
   "execution_count": 16,
   "id": "0c53b2b1",
   "metadata": {},
   "outputs": [
    {
     "data": {
      "application/vnd.jupyter.widget-view+json": {
       "model_id": "42f3da1fca0f46c6a1078ee69cbd1bf5",
       "version_major": 2,
       "version_minor": 0
      },
      "text/plain": [
       "FloatProgress(value=0.0, layout=Layout(width='100%'), style=ProgressStyle(bar_color='black'))"
      ]
     },
     "metadata": {},
     "output_type": "display_data"
    },
    {
     "data": {
      "application/vnd.jupyter.widget-view+json": {
       "model_id": "7a7ab42d88a64294a75f013a84d233a8",
       "version_major": 2,
       "version_minor": 0
      },
      "text/plain": [
       "FloatProgress(value=0.0, layout=Layout(width='100%'), style=ProgressStyle(bar_color='black'))"
      ]
     },
     "metadata": {},
     "output_type": "display_data"
    }
   ],
   "source": [
    "integral_params = [\n",
    "    ('tinyint', 100),\n",
    "    ('smallint', 10000),\n",
    "    ('integer', int(1e8)),\n",
    "    ('bigint', int(1e8)),\n",
    "]\n",
    "\n",
    "for param in integral_params:\n",
    "    create_distinct_integral_data(con, *param)"
   ]
  },
  {
   "cell_type": "markdown",
   "id": "8a71f1a6",
   "metadata": {},
   "source": [
    "# Group Generation"
   ]
  },
  {
   "cell_type": "code",
   "execution_count": 348,
   "id": "4d07f77d",
   "metadata": {},
   "outputs": [],
   "source": [
    "def generate_unique_groups(group_cols, group_count):\n",
    "    group_unique_counts = []\n",
    "    num_group_cols = len(group_cols)\n",
    "    remaining_group_count = group_count\n",
    "    for i in range(num_group_cols):\n",
    "        assert(len(group_cols[i]) == 2)\n",
    "        group_type = group_cols[i][0]\n",
    "        group_weight = group_cols[i][1]\n",
    "        assert(group_weight >= 0 and group_weight <= 1)\n",
    "        remaining_group_cols = num_group_cols - i\n",
    "        group_pow = (1 / remaining_group_cols) ** (1 - group_weight)\n",
    "        assert(group_pow >= 0 and group_pow <= 1)\n",
    "        group_unique_count = math.ceil(remaining_group_count ** group_pow)\n",
    "        remaining_group_count /= group_unique_count\n",
    "        group_unique_counts.append(group_unique_count)\n",
    "    return f\"\"\"\\rSELECT{TAB}row_number() OVER () AS group_id, *\n",
    "               \\rFROM{f',{NL}'.join([f\"{TAB}(SELECT c0 AS c{i} FROM '{SOURCE_DATA_DIR}/{t}s.parquet' USING SAMPLE {c}) t{i}\" for i, (t, c) in enumerate(zip([gc[0] for gc in group_cols], group_unique_counts))])}\n",
    "               \\rLIMIT{TAB}{group_count}\n",
    "           \"\"\""
   ]
  },
  {
   "cell_type": "code",
   "execution_count": 364,
   "id": "560d6d81",
   "metadata": {},
   "outputs": [],
   "source": [
    "def generate_dataset(name, group_cols, group_count, power, max_repetition, test_run=True):    \n",
    "    # Create group occurrences\n",
    "    scale = 1 - np.random.power(power, group_count)\n",
    "    scale /= np.max(scale)\n",
    "    counts_per_group = pd.DataFrame((max_repetition**(scale)).astype(int), columns=['count'])\n",
    "    con.execute(\"\"\"\n",
    "    CREATE OR REPLACE TEMPORARY TABLE occurrences AS\n",
    "    WITH cte AS (\n",
    "        SELECT row_number() OVER () AS group_id, count AS group_count\n",
    "        FROM counts_per_group\n",
    "    )\n",
    "    SELECT unnest([group_id for _ in range(group_count)]) AS group_id\n",
    "    FROM cte\n",
    "    \"\"\")\n",
    "    \n",
    "    if test_run:\n",
    "        print(con.execute(\"\"\"\n",
    "        SELECT min(count) AS mi,\n",
    "               max(count) AS ma,\n",
    "               median(count) AS med,\n",
    "               avg(count) AS avg,\n",
    "               sum(count) AS s\n",
    "        from counts_per_group\n",
    "        \"\"\").fetchdf())\n",
    "        \n",
    "        print(\"Is the generated distribution OK?\")\n",
    "        a = input()\n",
    "        if a == 'n':\n",
    "            return\n",
    "        elif a != 'y':\n",
    "            print(\"Input must be y/n!\")\n",
    "            \n",
    "    con.execute(\"\"\"\n",
    "    CREATE OR REPLACE TEMPORARY TABLE occurrences AS\n",
    "    SELECT * FROM occurrences\n",
    "    ORDER BY random()\n",
    "    \"\"\")\n",
    "    \n",
    "    # Create groups\n",
    "    q = generate_unique_groups(group_cols, group_count)\n",
    "    con.execute(f\"CREATE OR REPLACE VIEW groups AS ({q})\")\n",
    "    \n",
    "    # Join them\n",
    "    con.execute(f\"\"\"\n",
    "    COPY (\n",
    "        SELECT groups.* EXCLUDE (group_id)\n",
    "        FROM groups\n",
    "        JOIN occurrences\n",
    "        USING (group_id)\n",
    "    ) TO '{GROUPS_DATA_DIR}/{name}_{group_count}_{power}_{max_repetition}.parquet'\n",
    "    \"\"\")\n",
    "    "
   ]
  },
  {
   "cell_type": "code",
   "execution_count": 365,
   "id": "ca56420f",
   "metadata": {},
   "outputs": [
    {
     "data": {
      "text/html": [
       "<style>\n",
       "table {align:left;display:block}\n",
       "</style>\n"
      ],
      "text/plain": [
       "<IPython.core.display.HTML object>"
      ]
     },
     "metadata": {},
     "output_type": "display_data"
    }
   ],
   "source": [
    "%%html\n",
    "<style>\n",
    "table {align:left;display:block}\n",
    "</style>"
   ]
  },
  {
   "cell_type": "markdown",
   "id": "be8df225",
   "metadata": {},
   "source": [
    "We can choose from:\n",
    "| table | width | unique |\n",
    "|:---|:---:|:---:|\n",
    "|`'tinyints'` | 1 | 100 |\n",
    "|`'smallints'` | 2 | 10.000 |\n",
    "|`'integers'` | 4 | 100.000.000 |\n",
    "|`'bigints'` | 8 | 100.000.000 |\n",
    "|`'tiny_strings'` | 1 | 20 |\n",
    "|`'small_strings'` | 4-7 | 1.000.000 |\n",
    "|`'medium_strings'` | 8-15 | 1.000.000 |\n",
    "|`'large_strings'` | 16-31 | 1.000.000 |\n",
    "|`'huge_strings'` | 32-63 | 1.000.000 |"
   ]
  },
  {
   "cell_type": "code",
   "execution_count": 368,
   "id": "35d98a10",
   "metadata": {},
   "outputs": [
    {
     "data": {
      "application/vnd.jupyter.widget-view+json": {
       "model_id": "313b7e3cebad4879b4dcbab9fada25bd",
       "version_major": 2,
       "version_minor": 0
      },
      "text/plain": [
       "FloatProgress(value=0.0, layout=Layout(width='auto'), style=ProgressStyle(bar_color='black'))"
      ]
     },
     "metadata": {},
     "output_type": "display_data"
    },
    {
     "name": "stdout",
     "output_type": "stream",
     "text": [
      "   mi     ma  med       avg           s\n",
      "0   1  29097  2.0  5.394694  95113726.0\n",
      "Is the generated distribution OK?\n",
      "y\n"
     ]
    },
    {
     "data": {
      "application/vnd.jupyter.widget-view+json": {
       "model_id": "15bbf992d24b4c50b7fec7cd3f4a7e8e",
       "version_major": 2,
       "version_minor": 0
      },
      "text/plain": [
       "FloatProgress(value=0.0, layout=Layout(width='auto'), style=ProgressStyle(bar_color='black'))"
      ]
     },
     "metadata": {},
     "output_type": "display_data"
    },
    {
     "data": {
      "application/vnd.jupyter.widget-view+json": {
       "model_id": "7bccb13752f445b4bb8293c866ebfa44",
       "version_major": 2,
       "version_minor": 0
      },
      "text/plain": [
       "FloatProgress(value=0.0, layout=Layout(width='auto'), style=ProgressStyle(bar_color='black'))"
      ]
     },
     "metadata": {},
     "output_type": "display_data"
    }
   ],
   "source": [
    "# This mimics clickbench, but does not have the natural \"bursty\" behavior because we only do random uniform\n",
    "group_cols = [\n",
    "    (\"integer\", 0),\n",
    "]\n",
    "group_count = 17630976\n",
    "power = 15\n",
    "max_repetition = 29097\n",
    "\n",
    "generate_dataset(\"clickbench_userid\", group_cols, group_count, power, max_repetition)"
   ]
  },
  {
   "cell_type": "code",
   "execution_count": 391,
   "id": "e128a129",
   "metadata": {},
   "outputs": [
    {
     "name": "stderr",
     "output_type": "stream",
     "text": [
      " 67%|████████████████████████████████████████████████████████████████████████████████████████████████████████████████████████████████████████████████████████████████████████████████████████████                                                                                              | 4/6 [00:05<00:03,  1.82s/it]"
     ]
    },
    {
     "data": {
      "application/vnd.jupyter.widget-view+json": {
       "model_id": "3e37da4a45484dc8819c1ec9db8a4448",
       "version_major": 2,
       "version_minor": 0
      },
      "text/plain": [
       "FloatProgress(value=0.0, layout=Layout(width='auto'), style=ProgressStyle(bar_color='black'))"
      ]
     },
     "metadata": {},
     "output_type": "display_data"
    },
    {
     "data": {
      "application/vnd.jupyter.widget-view+json": {
       "model_id": "e33effb8a15f44f0b654fb6e7ad2e18b",
       "version_major": 2,
       "version_minor": 0
      },
      "text/plain": [
       "FloatProgress(value=0.0, layout=Layout(width='auto'), style=ProgressStyle(bar_color='black'))"
      ]
     },
     "metadata": {},
     "output_type": "display_data"
    },
    {
     "name": "stderr",
     "output_type": "stream",
     "text": [
      "\r",
      " 83%|███████████████████████████████████████████████████████████████████████████████████████████████████████████████████████████████████████████████████████████████████████████████████████████████████████████████████████████████████████████                                               | 5/6 [00:25<00:08,  8.16s/it]"
     ]
    },
    {
     "data": {
      "application/vnd.jupyter.widget-view+json": {
       "model_id": "e8d280a7ad504f0fbe215aea2981df29",
       "version_major": 2,
       "version_minor": 0
      },
      "text/plain": [
       "FloatProgress(value=0.0, layout=Layout(width='auto'), style=ProgressStyle(bar_color='black'))"
      ]
     },
     "metadata": {},
     "output_type": "display_data"
    },
    {
     "data": {
      "application/vnd.jupyter.widget-view+json": {
       "model_id": "a1a62fdbcdda4d2d808400d5688b8062",
       "version_major": 2,
       "version_minor": 0
      },
      "text/plain": [
       "FloatProgress(value=0.0, layout=Layout(width='auto'), style=ProgressStyle(bar_color='black'))"
      ]
     },
     "metadata": {},
     "output_type": "display_data"
    },
    {
     "data": {
      "application/vnd.jupyter.widget-view+json": {
       "model_id": "5c1a213126ed47ca957b63a941356664",
       "version_major": 2,
       "version_minor": 0
      },
      "text/plain": [
       "FloatProgress(value=0.0, layout=Layout(width='auto'), style=ProgressStyle(bar_color='black'))"
      ]
     },
     "metadata": {},
     "output_type": "display_data"
    },
    {
     "name": "stderr",
     "output_type": "stream",
     "text": [
      "100%|██████████████████████████████████████████████████████████████████████████████████████████████████████████████████████████████████████████████████████████████████████████████████████████████████████████████████████████████████████████████████████████████████████████████████████████| 6/6 [01:41<00:00, 16.97s/it]\n"
     ]
    }
   ],
   "source": [
    "group_cols = [\n",
    "    (\"integer\", 0),\n",
    "]\n",
    "\n",
    "# Total row count (approx)\n",
    "total_count = int(1e8)\n",
    "\n",
    "# Random uniform\n",
    "power = 1\n",
    "\n",
    "# From 1k to 100M groups\n",
    "for gce in tqdm.tqdm(range(3, 9)):\n",
    "    group_count = int(float(f\"1e{gce}\"))\n",
    "    max_repetition = int(total_count / group_count)\n",
    "    generate_dataset(\"uniform_integers\", group_cols, group_count, power, max_repetition, False)"
   ]
  },
  {
   "cell_type": "markdown",
   "id": "57f908da",
   "metadata": {},
   "source": [
    "# Random Queries"
   ]
  },
  {
   "cell_type": "code",
   "execution_count": 375,
   "id": "d9f09903",
   "metadata": {},
   "outputs": [
    {
     "name": "stdout",
     "output_type": "stream",
     "text": [
      "1.2298848628997803\n"
     ]
    },
    {
     "data": {
      "text/html": [
       "<div>\n",
       "<style scoped>\n",
       "    .dataframe tbody tr th:only-of-type {\n",
       "        vertical-align: middle;\n",
       "    }\n",
       "\n",
       "    .dataframe tbody tr th {\n",
       "        vertical-align: top;\n",
       "    }\n",
       "\n",
       "    .dataframe thead th {\n",
       "        text-align: right;\n",
       "    }\n",
       "</style>\n",
       "<table border=\"1\" class=\"dataframe\">\n",
       "  <thead>\n",
       "    <tr style=\"text-align: right;\">\n",
       "      <th></th>\n",
       "      <th>mi</th>\n",
       "      <th>ma</th>\n",
       "      <th>med</th>\n",
       "      <th>avg</th>\n",
       "      <th>s</th>\n",
       "    </tr>\n",
       "  </thead>\n",
       "  <tbody>\n",
       "    <tr>\n",
       "      <th>0</th>\n",
       "      <td>1</td>\n",
       "      <td>29097</td>\n",
       "      <td>2.0</td>\n",
       "      <td>5.671694</td>\n",
       "      <td>99997497.0</td>\n",
       "    </tr>\n",
       "  </tbody>\n",
       "</table>\n",
       "</div>"
      ],
      "text/plain": [
       "   mi     ma  med       avg           s\n",
       "0   1  29097  2.0  5.671694  99997497.0"
      ]
     },
     "execution_count": 375,
     "metadata": {},
     "output_type": "execute_result"
    }
   ],
   "source": [
    "before = time.time()\n",
    "con.execute(\"\"\"\n",
    "WITH hits_per_user AS (\n",
    "    SELECT UserID, count(*) AS count\n",
    "    FROM '/Users/laurens/git/duckdb/clickbench/hits.parquet'\n",
    "    GROUP BY UserID\n",
    ")\n",
    "select min(count) mi, max(count) ma, median(count) med, avg(count) avg, sum(count) s\n",
    "FROM hits_per_user\n",
    "\"\"\")\n",
    "print(time.time() - before)\n",
    "con.fetchdf()"
   ]
  },
  {
   "cell_type": "code",
   "execution_count": 376,
   "id": "c572e468",
   "metadata": {},
   "outputs": [
    {
     "name": "stdout",
     "output_type": "stream",
     "text": [
      "1.7522392272949219\n"
     ]
    },
    {
     "data": {
      "text/html": [
       "<div>\n",
       "<style scoped>\n",
       "    .dataframe tbody tr th:only-of-type {\n",
       "        vertical-align: middle;\n",
       "    }\n",
       "\n",
       "    .dataframe tbody tr th {\n",
       "        vertical-align: top;\n",
       "    }\n",
       "\n",
       "    .dataframe thead th {\n",
       "        text-align: right;\n",
       "    }\n",
       "</style>\n",
       "<table border=\"1\" class=\"dataframe\">\n",
       "  <thead>\n",
       "    <tr style=\"text-align: right;\">\n",
       "      <th></th>\n",
       "      <th>mi</th>\n",
       "      <th>ma</th>\n",
       "      <th>med</th>\n",
       "      <th>avg</th>\n",
       "      <th>s</th>\n",
       "    </tr>\n",
       "  </thead>\n",
       "  <tbody>\n",
       "    <tr>\n",
       "      <th>0</th>\n",
       "      <td>1</td>\n",
       "      <td>29097</td>\n",
       "      <td>2.0</td>\n",
       "      <td>5.394694</td>\n",
       "      <td>95113726.0</td>\n",
       "    </tr>\n",
       "  </tbody>\n",
       "</table>\n",
       "</div>"
      ],
      "text/plain": [
       "   mi     ma  med       avg           s\n",
       "0   1  29097  2.0  5.394694  95113726.0"
      ]
     },
     "execution_count": 376,
     "metadata": {},
     "output_type": "execute_result"
    }
   ],
   "source": [
    "before = time.time()\n",
    "con.execute(f\"\"\"\n",
    "WITH hits_per_user AS (\n",
    "    SELECT c0, count(*) AS count\n",
    "    FROM '{GROUPS_DATA_DIR}/clickbench*.parquet'\n",
    "    GROUP BY c0\n",
    ")\n",
    "select min(count) mi, max(count) ma, median(count) med, avg(count) avg, sum(count) s\n",
    "FROM hits_per_user\n",
    "\"\"\")\n",
    "print(time.time() - before)\n",
    "con.fetchdf()"
   ]
  },
  {
   "cell_type": "code",
   "execution_count": null,
   "id": "a4f079c2",
   "metadata": {},
   "outputs": [],
   "source": []
  }
 ],
 "metadata": {
  "kernelspec": {
   "display_name": "Python 3 (ipykernel)",
   "language": "python",
   "name": "python3"
  },
  "language_info": {
   "codemirror_mode": {
    "name": "ipython",
    "version": 3
   },
   "file_extension": ".py",
   "mimetype": "text/x-python",
   "name": "python",
   "nbconvert_exporter": "python",
   "pygments_lexer": "ipython3",
   "version": "3.11.3"
  }
 },
 "nbformat": 4,
 "nbformat_minor": 5
}

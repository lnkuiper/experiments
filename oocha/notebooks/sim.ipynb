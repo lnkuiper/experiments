{
 "cells": [
  {
   "cell_type": "code",
   "execution_count": 69,
   "id": "66797d3f",
   "metadata": {},
   "outputs": [],
   "source": [
    "import math\n",
    "from matplotlib import pyplot as plt"
   ]
  },
  {
   "cell_type": "code",
   "execution_count": 222,
   "id": "71e0c65a",
   "metadata": {},
   "outputs": [],
   "source": [
    "SINK_RADIX_BITS = 1\n",
    "SINK_ABANDON_THRESHOLD = 100_000\n",
    "NUM_PARTITIONS = 1 << SINK_RADIX_BITS\n",
    "\n",
    "THREADS = 4\n",
    "PARTITION_SQUASH_THRESHOLD = 50_000"
   ]
  },
  {
   "cell_type": "code",
   "execution_count": 223,
   "id": "48ce2a1e",
   "metadata": {},
   "outputs": [],
   "source": [
    "max_time = 1_000\n",
    "total_remaining = 10_000_000_000\n",
    "squash_factor = 0.75\n",
    "\n",
    "partitions = [{'count': 0, 'locked': False} for _ in range(NUM_PARTITIONS)]\n",
    "thread_infos = [{'partition': -1, 'remaining': 0} for _ in range(THREADS)]\n",
    "\n",
    "def do_squash(thread_info, effort_remaining):\n",
    "    partition_idx = thread_info['partition']\n",
    "    if partition_idx == -1 or effort_remaining == 0:\n",
    "        return effort_remaining\n",
    "    \n",
    "    partition_remaining = thread_info['remaining']\n",
    "    if partition_remaining == 0:\n",
    "        assert(partition_idx == -1)\n",
    "        return effort_remaining\n",
    "    \n",
    "    # Should have a valid partition idx, and the partition should be locked\n",
    "    assert(partition_idx != -1)\n",
    "    assert(partitions[partition_idx]['locked'] == True)\n",
    "\n",
    "    squash_effort = min(partition_remaining, effort_remaining)\n",
    "    thread_info['remaining'] -= squash_effort\n",
    "    if thread_info['remaining'] == 0:\n",
    "        thread_info['partition'] = -1\n",
    "        partitions[partition_idx]['locked'] = False\n",
    "    \n",
    "    return effort_remaining - squash_effort\n",
    "\n",
    "\n",
    "def done():\n",
    "    if total_remaining != 0:\n",
    "        return False\n",
    "    \n",
    "    for thread_info in thread_infos:\n",
    "        if thread_info['remaining'] != 0:\n",
    "            return False\n",
    "    \n",
    "    for partition in partitions:\n",
    "        if partition['count'] >= PARTITION_SQUASH_THRESHOLD:\n",
    "            return False\n",
    "    \n",
    "    return True\n",
    "\n",
    "avg_squashes = []\n",
    "for u in range(max_time):\n",
    "    sum_to_squash = 0\n",
    "    for partition in partitions:\n",
    "        sum_to_squash += partition['count']\n",
    "    for thread_info in thread_infos:\n",
    "        sum_to_squash += thread_info['remaining']\n",
    "    avg_squashes.append(sum_to_squash / NUM_PARTITIONS)\n",
    "    \n",
    "    if done():\n",
    "        print('done')\n",
    "        break   \n",
    "    \n",
    "    for thread_idx, thread_info in enumerate(thread_infos):\n",
    "        effort_remaining = do_squash(thread_info, SINK_ABANDON_THRESHOLD)\n",
    "        if effort_remaining == 0:\n",
    "            continue\n",
    "            \n",
    "        effort_remaining = min(effort_remaining, total_remaining)\n",
    "        \n",
    "        # Should be done with squashing by now\n",
    "        assert(thread_info['partition'] == -1)\n",
    "        assert(thread_info['remaining'] == 0)\n",
    "        \n",
    "        # Now, do the regular work\n",
    "        effort_per_partition = math.ceil(effort_remaining / NUM_PARTITIONS)\n",
    "        for partition_idx, partition in enumerate(partitions):\n",
    "            effort_this_partition = min(effort_remaining, effort_per_partition)\n",
    "            effort_remaining -= effort_this_partition\n",
    "            total_remaining -= effort_this_partition\n",
    "            partition['count'] += effort_this_partition\n",
    "            \n",
    "            if partition['count'] < PARTITION_SQUASH_THRESHOLD:\n",
    "                continue\n",
    "            \n",
    "            if partition['locked'] == True:\n",
    "                continue\n",
    "                \n",
    "            if thread_info['partition'] != -1:\n",
    "                continue\n",
    "            \n",
    "            thread_info['partition'] = partition_idx\n",
    "            thread_info['remaining'] = partition['count']\n",
    "            partition['count'] = 0\n",
    "            partition['locked'] = True\n",
    "#             # Now squash\n",
    "#             effort_remaining = do_squash(thread_info, effort_remaining)\n",
    "            \n",
    "#             if effort_remaining == 0:\n",
    "#                 break"
   ]
  },
  {
   "cell_type": "code",
   "execution_count": 224,
   "id": "f5e0dcaa",
   "metadata": {},
   "outputs": [
    {
     "data": {
      "image/png": "[encoded data removed]",
      "text/plain": [
       "<Figure size 640x480 with 1 Axes>"
      ]
     },
     "metadata": {},
     "output_type": "display_data"
    }
   ],
   "source": [
    "plt.plot(list(range(len(avg_squashes))), avg_squashes)\n",
    "plt.show()"
   ]
  },
  {
   "cell_type": "code",
   "execution_count": 213,
   "id": "d46e07a8",
   "metadata": {},
   "outputs": [
    {
     "data": {
      "text/plain": [
       "1.92"
      ]
     },
     "execution_count": 213,
     "metadata": {},
     "output_type": "execute_result"
    }
   ],
   "source": [
    "75*256*100000 / 1_000_000_000"
   ]
  },
  {
   "cell_type": "code",
   "execution_count": null,
   "id": "4f0617da",
   "metadata": {},
   "outputs": [],
   "source": []
  }
 ],
 "metadata": {
  "kernelspec": {
   "display_name": "Python 3 (ipykernel)",
   "language": "python",
   "name": "python3"
  },
  "language_info": {
   "codemirror_mode": {
    "name": "ipython",
    "version": 3
   },
   "file_extension": ".py",
   "mimetype": "text/x-python",
   "name": "python",
   "nbconvert_exporter": "python",
   "pygments_lexer": "ipython3",
   "version": "3.11.4"
  }
 },
 "nbformat": 4,
 "nbformat_minor": 5
}
